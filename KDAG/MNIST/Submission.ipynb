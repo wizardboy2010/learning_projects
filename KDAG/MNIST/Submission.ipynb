{
 "cells": [
  {
   "cell_type": "markdown",
   "metadata": {},
   "source": [
    "# Importing Libraries"
   ]
  },
  {
   "cell_type": "code",
   "execution_count": 1,
   "metadata": {
    "collapsed": true
   },
   "outputs": [],
   "source": [
    "import numpy as np\n",
    "import collections\n",
    "import os\n",
    "import struct\n",
    "import gzip\n",
    "import numpy as np\n",
    "import tensorflow as tf\n",
    "import urllib\n",
    "import sys\n",
    "import matplotlib.pyplot as plt"
   ]
  },
  {
   "cell_type": "markdown",
   "metadata": {},
   "source": [
    "# Data Processing"
   ]
  },
  {
   "cell_type": "markdown",
   "metadata": {},
   "source": [
    "### Format to Store the data"
   ]
  },
  {
   "cell_type": "code",
   "execution_count": 2,
   "metadata": {
    "collapsed": true
   },
   "outputs": [],
   "source": [
    "Datasets = collections.namedtuple('Datasets', ['train', 'validation', 'test'])"
   ]
  },
  {
   "cell_type": "markdown",
   "metadata": {},
   "source": [
    "* Datasets are stored in Tuple of train, Validation, Test"
   ]
  },
  {
   "cell_type": "markdown",
   "metadata": {},
   "source": [
    "### Functions"
   ]
  },
  {
   "cell_type": "markdown",
   "metadata": {},
   "source": [
    "##### Function for downloading Data"
   ]
  },
  {
   "cell_type": "markdown",
   "metadata": {},
   "source": [
    "* With this function we can able to download the Data from the website (Which is same as inbuilt MNIST dataset)"
   ]
  },
  {
   "cell_type": "markdown",
   "metadata": {},
   "source": [
    "* If the files already Downloaded then it skips the download"
   ]
  },
  {
   "cell_type": "code",
   "execution_count": 3,
   "metadata": {
    "collapsed": true
   },
   "outputs": [],
   "source": [
    "def maybe_download(filename):\n",
    "    WORK_DIRECTORY = os.getcwd()\n",
    "    SOURCE_URL = 'http://yann.lecun.com/exdb/mnist/'\n",
    "    if not tf.gfile.Exists(WORK_DIRECTORY):\n",
    "        tf.gfile.MakeDirs(WORK_DIRECTORY)\n",
    "    filepath = os.path.join(WORK_DIRECTORY, filename)\n",
    "    if not tf.gfile.Exists(filepath):\n",
    "        filepath, _ = urllib.request.urlretrieve(SOURCE_URL + filename, filepath)\n",
    "        with tf.gfile.GFile(filepath) as f:\n",
    "            size = f.size()\n",
    "        print('Successfully downloaded', filename, size, 'bytes.')\n",
    "    return filepath"
   ]
  },
  {
   "cell_type": "markdown",
   "metadata": {},
   "source": [
    "##### Functions for Extracting data"
   ]
  },
  {
   "cell_type": "markdown",
   "metadata": {},
   "source": [
    "* Data that we get is in the form of idx-ubyte.gz format, which cannot be read normally"
   ]
  },
  {
   "cell_type": "markdown",
   "metadata": {},
   "source": [
    "* It is a type of Zip file, we will use gzip to open the file and read the data as a stream"
   ]
  },
  {
   "cell_type": "code",
   "execution_count": 4,
   "metadata": {
    "collapsed": true
   },
   "outputs": [],
   "source": [
    "IMAGE_SIZE = 28\n",
    "def extract_data(filename, num_images):\n",
    "    print('Extracting', filename)\n",
    "    with gzip.open(filename) as bytestream:\n",
    "        bytestream.read(16)\n",
    "        buf = bytestream.read(IMAGE_SIZE * IMAGE_SIZE * num_images)\n",
    "        data = np.frombuffer(buf, dtype=np.uint8).astype(np.float32)\n",
    "        data = data.reshape(num_images, IMAGE_SIZE, IMAGE_SIZE, 1)\n",
    "    return data\n",
    "\n",
    "def extract_labels(filename, num_images):\n",
    "    print('Extracting', filename)\n",
    "    with gzip.open(filename) as bytestream:\n",
    "        bytestream.read(8)\n",
    "        buf = bytestream.read(1 * num_images)\n",
    "        labels = np.frombuffer(buf, dtype=np.uint8).astype(np.int64)\n",
    "    return labels"
   ]
  },
  {
   "cell_type": "markdown",
   "metadata": {},
   "source": [
    "* We reshaped the image into shape of [ : , 28, 28, 1]"
   ]
  },
  {
   "cell_type": "markdown",
   "metadata": {},
   "source": [
    "### Download the Data"
   ]
  },
  {
   "cell_type": "code",
   "execution_count": 5,
   "metadata": {
    "collapsed": true
   },
   "outputs": [],
   "source": [
    "train_data_filename = maybe_download('train-images-idx3-ubyte.gz')\n",
    "train_labels_filename = maybe_download('train-labels-idx1-ubyte.gz')\n",
    "test_data_filename = maybe_download('t10k-images-idx3-ubyte.gz')\n",
    "test_labels_filename = maybe_download('t10k-labels-idx1-ubyte.gz')"
   ]
  },
  {
   "cell_type": "markdown",
   "metadata": {},
   "source": [
    "### Extract Data"
   ]
  },
  {
   "cell_type": "code",
   "execution_count": 6,
   "metadata": {},
   "outputs": [
    {
     "name": "stdout",
     "output_type": "stream",
     "text": [
      "Extracting train-images-idx3-ubyte.gz\n",
      "Extracting train-labels-idx1-ubyte.gz\n",
      "Extracting t10k-images-idx3-ubyte.gz\n",
      "Extracting t10k-labels-idx1-ubyte.gz\n"
     ]
    }
   ],
   "source": [
    "train_images = extract_data('train-images-idx3-ubyte.gz', 60000)\n",
    "train_labels = extract_labels('train-labels-idx1-ubyte.gz', 60000)\n",
    "test_images = extract_data('t10k-images-idx3-ubyte.gz', 10000)\n",
    "test_labels = extract_labels('t10k-labels-idx1-ubyte.gz', 10000)"
   ]
  },
  {
   "cell_type": "markdown",
   "metadata": {},
   "source": [
    "### Function for one hot encoding"
   ]
  },
  {
   "cell_type": "code",
   "execution_count": 7,
   "metadata": {
    "collapsed": true
   },
   "outputs": [],
   "source": [
    "def onehot(labels):\n",
    "    l = np.zeros([labels.shape[0], 10])\n",
    "    for i, val in enumerate(labels):\n",
    "        l[i, val] = 1\n",
    "    return l"
   ]
  },
  {
   "cell_type": "markdown",
   "metadata": {},
   "source": [
    "* if the labels that we get are not one hot encoded, this function will help us to encode it"
   ]
  },
  {
   "cell_type": "markdown",
   "metadata": {},
   "source": [
    "### Class and Function for Preparing the Dataet"
   ]
  },
  {
   "cell_type": "code",
   "execution_count": 8,
   "metadata": {
    "collapsed": true
   },
   "outputs": [],
   "source": [
    "class getdata(object):\n",
    "    \n",
    "    def __init__(self, images, labels, one_hot = True):\n",
    "        assert images.shape[0] == labels.shape[0]\n",
    "        self.num_examples = images.shape[0]\n",
    "        assert images.shape[3] == 1\n",
    "        self.images = images\n",
    "        self.one_hot = one_hot\n",
    "        self.labels = labels\n",
    "        if not one_hot:\n",
    "            self.labels = onehot(labels)\n",
    "        self.epoch = 0\n",
    "        self.startofepoch = 0\n",
    "        \n",
    "    def nextbatch(self, batch_size):\n",
    "        start = self.startofepoch\n",
    "        end = start + batch_size\n",
    "        \n",
    "        if end > self.num_examples:\n",
    "            self.epoch += 1\n",
    "            \n",
    "            perm = np.arange(self.num_examples)\n",
    "            np.random.shuffle(perm)\n",
    "            \n",
    "            self.images = self.images[perm]\n",
    "            self.labels = self.labels[perm]\n",
    "            \n",
    "            start = 0\n",
    "            end = batch_size\n",
    "            \n",
    "        self.startofepoch = end\n",
    "        return self.images[start:end], self.labels[start:end]\n",
    "\n",
    "def createdata(train_images, train_labels, test_images, test_labels):\n",
    "    perm = np.arange(train_images.shape[0])\n",
    "    np.random.shuffle(perm)\n",
    "    train_images = train_images[perm]\n",
    "    train_labels = train_labels[perm]\n",
    "    validation_images = train_images[int(0.7*train_images.shape[0]):]\n",
    "    validation_labels = train_labels[int(0.7*train_labels.shape[0]):]\n",
    "    train_images = train_images[:int(0.7*train_images.shape[0])]\n",
    "    train_labels = train_labels[:int(0.7*train_labels.shape[0])]\n",
    "    \n",
    "    train = getdata(train_images, train_labels, one_hot = True)\n",
    "    validation = getdata(validation_images, validation_labels, one_hot = True)\n",
    "    test = getdata(test_images, test_labels, one_hot = True)\n",
    "    \n",
    "    return Datasets(train=train, validation=validation, test=test)"
   ]
  },
  {
   "cell_type": "markdown",
   "metadata": {},
   "source": [
    "* Here the class getdata helps to iterate as batches whereas function createdata helps to convert the extracted data into collection of tuple that we defined above"
   ]
  },
  {
   "cell_type": "markdown",
   "metadata": {},
   "source": [
    "### Preparing Dataset"
   ]
  },
  {
   "cell_type": "code",
   "execution_count": 9,
   "metadata": {
    "collapsed": true
   },
   "outputs": [],
   "source": [
    "data = createdata(train_images, train_labels, test_images, test_labels)"
   ]
  },
  {
   "cell_type": "markdown",
   "metadata": {},
   "source": [
    "# Model"
   ]
  },
  {
   "cell_type": "markdown",
   "metadata": {},
   "source": [
    "### Setting Log"
   ]
  },
  {
   "cell_type": "code",
   "execution_count": 10,
   "metadata": {
    "collapsed": true
   },
   "outputs": [],
   "source": [
    "tf.logging.set_verbosity(tf.logging.INFO)"
   ]
  },
  {
   "cell_type": "markdown",
   "metadata": {},
   "source": [
    "* Sets the condition to log all the infoof graph"
   ]
  },
  {
   "cell_type": "markdown",
   "metadata": {},
   "source": [
    "### Defining model"
   ]
  },
  {
   "cell_type": "markdown",
   "metadata": {},
   "source": [
    "Here the model that we constructed is:\n",
    "\n",
    "* Convolution layer - 32, [5,5]\n",
    "* Maxpool - stride 2, [2,2]\n",
    "* Convolution layer - 64, [5,5]\n",
    "* Maxpool - stride 2, [2,2]\n",
    "* Flatten to [:, 7*7*64]\n",
    "* dense layer - 1024 units\n",
    "* dropout - 0.4\n",
    "* Output - labels (Not one hot encoded)\n"
   ]
  },
  {
   "cell_type": "markdown",
   "metadata": {},
   "source": [
    "Created a Estimator with:\n",
    "* Loss function as sparse_softmax_cross_entropy\n",
    "* Optimizer as GradientDescentOptimizer\n",
    "* Learning rate 0.001"
   ]
  },
  {
   "cell_type": "code",
   "execution_count": 11,
   "metadata": {
    "collapsed": true
   },
   "outputs": [],
   "source": [
    "def model(features, labels, mode):\n",
    "\n",
    "    input_layer = tf.reshape(features[\"x\"], [-1, 28, 28, 1])\n",
    "    conv1 = tf.layers.conv2d(inputs=input_layer,\n",
    "        filters=32,\n",
    "        kernel_size=[5, 5],\n",
    "        padding=\"same\",\n",
    "        activation=tf.nn.relu,\n",
    "        name = \"Conv1\")\n",
    "\n",
    "    pool1 = tf.layers.max_pooling2d(inputs=conv1, pool_size=[2, 2], strides=2, name = \"Pool1\")\n",
    "    conv2 = tf.layers.conv2d(inputs=pool1,\n",
    "        filters=64,\n",
    "        kernel_size=[5, 5],\n",
    "        padding=\"same\",\n",
    "        activation=tf.nn.relu,\n",
    "        name = \"Conv2\")\n",
    "\n",
    "    pool2 = tf.layers.max_pooling2d(inputs=conv2, pool_size=[2, 2], strides=2, name = \"Pool2\")\n",
    "    pool2_flat = tf.reshape(pool2, [-1, 7 * 7 * 64])\n",
    "    dense = tf.layers.dense(inputs=pool2_flat, units=1024, activation=tf.nn.relu, name = \"Fc1\")\n",
    "\n",
    "    dropout = tf.layers.dropout(inputs=dense, rate=0.4, training=mode == tf.estimator.ModeKeys.TRAIN)\n",
    "\n",
    "    logits = tf.layers.dense(inputs=dropout, units=10, name = \"out\")\n",
    "\n",
    "    predictions = {\n",
    "        \"classes\": tf.argmax(input=logits, axis=1, name = \"Prediction\"),\n",
    "        \"probabilities\": tf.nn.softmax(logits, name=\"softmax_tensor\")\n",
    "    }\n",
    "\n",
    "    eval_metric_ops = {\n",
    "        \"accuracy\": tf.metrics.accuracy(labels=labels, predictions=predictions[\"classes\"], name = \"Accuracy_value\")}\n",
    "\n",
    "    if mode == tf.estimator.ModeKeys.PREDICT:\n",
    "        return tf.estimator.EstimatorSpec(mode=mode, predictions=predictions)\n",
    "\n",
    "    # Calculate Loss (for both TRAIN and EVAL modes)\n",
    "    loss = tf.losses.sparse_softmax_cross_entropy(labels=labels, logits=logits)\n",
    "\n",
    "    # Configure the Training Op (for TRAIN mode)\n",
    "    if mode == tf.estimator.ModeKeys.TRAIN:\n",
    "        optimizer = tf.train.GradientDescentOptimizer(learning_rate=0.001)\n",
    "        train_op = optimizer.minimize(loss=loss, global_step=tf.train.get_global_step())\n",
    "        return tf.estimator.EstimatorSpec(mode=mode, loss=loss, train_op=train_op)\n",
    "\n",
    "    # Add evaluation metrics (for EVAL mode)\n",
    "    eval_metric_ops = {\"accuracy\": tf.metrics.accuracy(labels=labels, predictions=predictions[\"classes\"], name = \"Accuracy_value\")}\n",
    "    return tf.estimator.EstimatorSpec(mode=mode, loss=loss, eval_metric_ops=eval_metric_ops)"
   ]
  },
  {
   "cell_type": "markdown",
   "metadata": {},
   "source": [
    "### Defining a Classifier"
   ]
  },
  {
   "cell_type": "markdown",
   "metadata": {},
   "source": [
    "Created a Classifier with checkpoints in directory : tboard/mod1"
   ]
  },
  {
   "cell_type": "code",
   "execution_count": 12,
   "metadata": {
    "scrolled": true
   },
   "outputs": [
    {
     "name": "stdout",
     "output_type": "stream",
     "text": [
      "INFO:tensorflow:Using default config.\n",
      "INFO:tensorflow:Using config: {'_save_summary_steps': 100, '_task_id': 0, '_cluster_spec': <tensorflow.python.training.server_lib.ClusterSpec object at 0x7f7ff7f33240>, '_save_checkpoints_steps': None, '_keep_checkpoint_every_n_hours': 10000, '_num_worker_replicas': 1, '_tf_random_seed': None, '_service': None, '_save_checkpoints_secs': 600, '_num_ps_replicas': 0, '_master': '', '_session_config': None, '_model_dir': 'tboard/mod1', '_log_step_count_steps': 100, '_keep_checkpoint_max': 5, '_is_chief': True, '_task_type': 'worker'}\n"
     ]
    }
   ],
   "source": [
    "classifier = tf.estimator.Estimator(model_fn=model, model_dir=\"tboard/mod1\")"
   ]
  },
  {
   "cell_type": "markdown",
   "metadata": {},
   "source": [
    "### Train Function"
   ]
  },
  {
   "cell_type": "markdown",
   "metadata": {},
   "source": [
    "Created a Train Function for estimator"
   ]
  },
  {
   "cell_type": "code",
   "execution_count": 13,
   "metadata": {
    "collapsed": true
   },
   "outputs": [],
   "source": [
    "train_fn = tf.estimator.inputs.numpy_input_fn(x={\"x\": data.train.images}, \n",
    "                                                    y=data.train.labels, \n",
    "                                                    batch_size=100,\n",
    "                                                    num_epochs=None,\n",
    "                                                    shuffle=True)"
   ]
  },
  {
   "cell_type": "markdown",
   "metadata": {},
   "source": [
    "### Train Model"
   ]
  },
  {
   "cell_type": "markdown",
   "metadata": {},
   "source": [
    "Here model is trained by updating all variables in checkpoints stored in directory for every 100 global steps. After 100 steps it takes the values from the checkpoints and retrain the model"
   ]
  },
  {
   "cell_type": "code",
   "execution_count": 14,
   "metadata": {
    "scrolled": true
   },
   "outputs": [
    {
     "name": "stdout",
     "output_type": "stream",
     "text": [
      "INFO:tensorflow:Create CheckpointSaverHook.\n",
      "INFO:tensorflow:Saving checkpoints for 1 into tboard/mod1/model.ckpt.\n",
      "INFO:tensorflow:step = 1, loss = 47.7834\n",
      "INFO:tensorflow:global_step/sec: 2.45895\n",
      "INFO:tensorflow:step = 101, loss = 0.826965 (40.669 sec)\n",
      "INFO:tensorflow:global_step/sec: 2.09505\n",
      "INFO:tensorflow:step = 201, loss = 0.397608 (47.732 sec)\n",
      "INFO:tensorflow:global_step/sec: 2.17857\n",
      "INFO:tensorflow:step = 301, loss = 0.284991 (45.916 sec)\n",
      "INFO:tensorflow:global_step/sec: 2.26095\n",
      "INFO:tensorflow:step = 401, loss = 0.303349 (44.214 sec)\n",
      "INFO:tensorflow:global_step/sec: 2.39338\n",
      "INFO:tensorflow:step = 501, loss = 0.364552 (41.782 sec)\n",
      "INFO:tensorflow:global_step/sec: 2.21541\n",
      "INFO:tensorflow:step = 601, loss = 0.27745 (45.139 sec)\n",
      "INFO:tensorflow:global_step/sec: 2.29288\n",
      "INFO:tensorflow:step = 701, loss = 0.252174 (43.612 sec)\n",
      "INFO:tensorflow:global_step/sec: 2.55308\n",
      "INFO:tensorflow:step = 801, loss = 0.11744 (39.168 sec)\n",
      "INFO:tensorflow:global_step/sec: 2.31433\n",
      "INFO:tensorflow:step = 901, loss = 0.23297 (43.210 sec)\n",
      "INFO:tensorflow:global_step/sec: 2.27349\n",
      "INFO:tensorflow:step = 1001, loss = 0.101198 (43.998 sec)\n",
      "INFO:tensorflow:global_step/sec: 1.96442\n",
      "INFO:tensorflow:step = 1101, loss = 0.110713 (50.892 sec)\n",
      "INFO:tensorflow:global_step/sec: 2.3012\n",
      "INFO:tensorflow:step = 1201, loss = 0.108324 (43.456 sec)\n",
      "INFO:tensorflow:global_step/sec: 2.24323\n",
      "INFO:tensorflow:step = 1301, loss = 0.120612 (44.578 sec)\n",
      "INFO:tensorflow:Saving checkpoints for 1359 into tboard/mod1/model.ckpt.\n",
      "INFO:tensorflow:global_step/sec: 2.24165\n",
      "INFO:tensorflow:step = 1401, loss = 0.123634 (44.610 sec)\n",
      "INFO:tensorflow:global_step/sec: 1.96373\n",
      "INFO:tensorflow:step = 1501, loss = 0.175879 (50.940 sec)\n",
      "INFO:tensorflow:global_step/sec: 1.95561\n",
      "INFO:tensorflow:step = 1601, loss = 0.123604 (51.509 sec)\n",
      "INFO:tensorflow:global_step/sec: 2.06552\n",
      "INFO:tensorflow:step = 1701, loss = 0.0950506 (48.196 sec)\n",
      "INFO:tensorflow:global_step/sec: 2.23519\n",
      "INFO:tensorflow:step = 1801, loss = 0.242281 (44.623 sec)\n",
      "INFO:tensorflow:global_step/sec: 1.9933\n",
      "INFO:tensorflow:step = 1901, loss = 0.15129 (50.490 sec)\n",
      "INFO:tensorflow:global_step/sec: 2.06211\n",
      "INFO:tensorflow:step = 2001, loss = 0.230834 (48.117 sec)\n",
      "INFO:tensorflow:global_step/sec: 2.41911\n",
      "INFO:tensorflow:step = 2101, loss = 0.0508729 (41.368 sec)\n",
      "INFO:tensorflow:global_step/sec: 1.95193\n",
      "INFO:tensorflow:step = 2201, loss = 0.246736 (51.512 sec)\n",
      "INFO:tensorflow:global_step/sec: 2.10666\n",
      "INFO:tensorflow:step = 2301, loss = 0.0741129 (47.157 sec)\n",
      "INFO:tensorflow:global_step/sec: 2.07552\n",
      "INFO:tensorflow:step = 2401, loss = 0.0762442 (48.206 sec)\n",
      "INFO:tensorflow:global_step/sec: 2.15185\n",
      "INFO:tensorflow:step = 2501, loss = 0.046001 (46.446 sec)\n",
      "INFO:tensorflow:global_step/sec: 2.18854\n",
      "INFO:tensorflow:step = 2601, loss = 0.054544 (45.693 sec)\n",
      "INFO:tensorflow:Saving checkpoints for 2616 into tboard/mod1/model.ckpt.\n",
      "INFO:tensorflow:global_step/sec: 2.13316\n",
      "INFO:tensorflow:step = 2701, loss = 0.151956 (46.879 sec)\n",
      "INFO:tensorflow:global_step/sec: 2.17434\n",
      "INFO:tensorflow:step = 2801, loss = 0.0924322 (45.991 sec)\n",
      "INFO:tensorflow:global_step/sec: 2.17059\n",
      "INFO:tensorflow:step = 2901, loss = 0.12357 (46.070 sec)\n",
      "INFO:tensorflow:global_step/sec: 2.17614\n",
      "INFO:tensorflow:step = 3001, loss = 0.132826 (45.953 sec)\n",
      "INFO:tensorflow:global_step/sec: 2.18543\n",
      "INFO:tensorflow:step = 3101, loss = 0.100566 (45.760 sec)\n",
      "INFO:tensorflow:global_step/sec: 2.18747\n",
      "INFO:tensorflow:step = 3201, loss = 0.160164 (45.712 sec)\n",
      "INFO:tensorflow:global_step/sec: 2.31657\n",
      "INFO:tensorflow:step = 3301, loss = 0.0916081 (43.168 sec)\n",
      "INFO:tensorflow:global_step/sec: 2.47612\n",
      "INFO:tensorflow:step = 3401, loss = 0.08784 (40.384 sec)\n",
      "INFO:tensorflow:global_step/sec: 2.50317\n",
      "INFO:tensorflow:step = 3501, loss = 0.0986194 (39.949 sec)\n",
      "INFO:tensorflow:global_step/sec: 2.49799\n",
      "INFO:tensorflow:step = 3601, loss = 0.0730124 (40.033 sec)\n",
      "INFO:tensorflow:global_step/sec: 2.4898\n",
      "INFO:tensorflow:step = 3701, loss = 0.0220979 (40.164 sec)\n",
      "INFO:tensorflow:global_step/sec: 2.50231\n",
      "INFO:tensorflow:step = 3801, loss = 0.203517 (39.963 sec)\n",
      "INFO:tensorflow:global_step/sec: 2.5017\n",
      "INFO:tensorflow:step = 3901, loss = 0.064959 (39.973 sec)\n",
      "INFO:tensorflow:global_step/sec: 2.49572\n",
      "INFO:tensorflow:step = 4001, loss = 0.0938926 (40.068 sec)\n",
      "INFO:tensorflow:Saving checkpoints for 4019 into tboard/mod1/model.ckpt.\n",
      "INFO:tensorflow:global_step/sec: 2.46095\n",
      "INFO:tensorflow:step = 4101, loss = 0.150052 (40.635 sec)\n",
      "INFO:tensorflow:global_step/sec: 2.50332\n",
      "INFO:tensorflow:step = 4201, loss = 0.0484904 (39.961 sec)\n",
      "INFO:tensorflow:global_step/sec: 2.49115\n",
      "INFO:tensorflow:step = 4301, loss = 0.0822873 (40.129 sec)\n",
      "INFO:tensorflow:global_step/sec: 2.38959\n",
      "INFO:tensorflow:step = 4401, loss = 0.110754 (41.848 sec)\n",
      "INFO:tensorflow:global_step/sec: 2.50399\n",
      "INFO:tensorflow:step = 4501, loss = 0.0680002 (39.937 sec)\n",
      "INFO:tensorflow:global_step/sec: 2.49528\n",
      "INFO:tensorflow:step = 4601, loss = 0.0894504 (40.075 sec)\n",
      "INFO:tensorflow:global_step/sec: 2.50425\n",
      "INFO:tensorflow:step = 4701, loss = 0.0681856 (39.932 sec)\n",
      "INFO:tensorflow:global_step/sec: 2.44385\n",
      "INFO:tensorflow:step = 4801, loss = 0.0401764 (40.920 sec)\n",
      "INFO:tensorflow:global_step/sec: 2.49065\n",
      "INFO:tensorflow:step = 4901, loss = 0.0820519 (40.151 sec)\n",
      "INFO:tensorflow:global_step/sec: 2.50393\n",
      "INFO:tensorflow:step = 5001, loss = 0.0383665 (39.936 sec)\n",
      "INFO:tensorflow:global_step/sec: 2.39652\n",
      "INFO:tensorflow:step = 5101, loss = 0.11896 (41.728 sec)\n",
      "INFO:tensorflow:global_step/sec: 2.2991\n",
      "INFO:tensorflow:step = 5201, loss = 0.0697766 (43.495 sec)\n",
      "INFO:tensorflow:global_step/sec: 2.52\n",
      "INFO:tensorflow:step = 5301, loss = 0.0624881 (39.682 sec)\n",
      "INFO:tensorflow:global_step/sec: 2.56669\n",
      "INFO:tensorflow:step = 5401, loss = 0.0475619 (38.981 sec)\n",
      "INFO:tensorflow:global_step/sec: 2.56897\n",
      "INFO:tensorflow:step = 5501, loss = 0.0227948 (38.906 sec)\n",
      "INFO:tensorflow:Saving checkpoints for 5504 into tboard/mod1/model.ckpt.\n",
      "INFO:tensorflow:global_step/sec: 2.5174\n",
      "INFO:tensorflow:step = 5601, loss = 0.0387556 (39.723 sec)\n",
      "INFO:tensorflow:global_step/sec: 2.48346\n",
      "INFO:tensorflow:step = 5701, loss = 0.0153219 (40.267 sec)\n",
      "INFO:tensorflow:global_step/sec: 2.41961\n",
      "INFO:tensorflow:step = 5801, loss = 0.0226589 (41.347 sec)\n",
      "INFO:tensorflow:global_step/sec: 2.42878\n",
      "INFO:tensorflow:step = 5901, loss = 0.252213 (41.155 sec)\n",
      "INFO:tensorflow:global_step/sec: 2.44664\n",
      "INFO:tensorflow:step = 6001, loss = 0.083588 (42.047 sec)\n",
      "INFO:tensorflow:global_step/sec: 1.25488\n",
      "INFO:tensorflow:step = 6101, loss = 0.0537234 (79.084 sec)\n",
      "INFO:tensorflow:global_step/sec: 1.66206\n",
      "INFO:tensorflow:step = 6201, loss = 0.0637169 (59.642 sec)\n",
      "INFO:tensorflow:global_step/sec: 1.66542\n",
      "INFO:tensorflow:step = 6301, loss = 0.0523587 (60.034 sec)\n",
      "INFO:tensorflow:global_step/sec: 1.6146\n",
      "INFO:tensorflow:step = 6401, loss = 0.00978844 (61.977 sec)\n",
      "INFO:tensorflow:global_step/sec: 1.96598\n",
      "INFO:tensorflow:step = 6501, loss = 0.080259 (50.788 sec)\n",
      "INFO:tensorflow:global_step/sec: 1.82054\n",
      "INFO:tensorflow:step = 6601, loss = 0.0223597 (54.962 sec)\n",
      "INFO:tensorflow:Saving checkpoints for 6647 into tboard/mod1/model.ckpt.\n",
      "INFO:tensorflow:global_step/sec: 1.44224\n",
      "INFO:tensorflow:step = 6701, loss = 0.0616289 (69.475 sec)\n",
      "INFO:tensorflow:global_step/sec: 1.57677\n",
      "INFO:tensorflow:step = 6801, loss = 0.0190097 (63.364 sec)\n",
      "INFO:tensorflow:global_step/sec: 1.57508\n",
      "INFO:tensorflow:step = 6901, loss = 0.0296342 (63.787 sec)\n",
      "INFO:tensorflow:global_step/sec: 2.1407\n",
      "INFO:tensorflow:step = 7001, loss = 0.0499007 (46.301 sec)\n",
      "INFO:tensorflow:global_step/sec: 2.39507\n",
      "INFO:tensorflow:step = 7101, loss = 0.0562831 (41.790 sec)\n",
      "INFO:tensorflow:global_step/sec: 2.28566\n",
      "INFO:tensorflow:step = 7201, loss = 0.0882617 (43.713 sec)\n",
      "INFO:tensorflow:global_step/sec: 2.46961\n",
      "INFO:tensorflow:step = 7301, loss = 0.0748931 (40.492 sec)\n",
      "INFO:tensorflow:global_step/sec: 2.22523\n",
      "INFO:tensorflow:step = 7401, loss = 0.0201733 (44.959 sec)\n",
      "INFO:tensorflow:global_step/sec: 2.16852\n",
      "INFO:tensorflow:step = 7501, loss = 0.0191738 (46.095 sec)\n",
      "INFO:tensorflow:global_step/sec: 2.38356\n",
      "INFO:tensorflow:step = 7601, loss = 0.0686072 (41.954 sec)\n",
      "INFO:tensorflow:global_step/sec: 2.57092\n",
      "INFO:tensorflow:step = 7701, loss = 0.0409384 (38.897 sec)\n",
      "INFO:tensorflow:global_step/sec: 2.56574\n"
     ]
    },
    {
     "name": "stdout",
     "output_type": "stream",
     "text": [
      "INFO:tensorflow:step = 7801, loss = 0.0870436 (38.975 sec)\n",
      "INFO:tensorflow:global_step/sec: 2.50085\n",
      "INFO:tensorflow:step = 7901, loss = 0.0739786 (39.987 sec)\n",
      "INFO:tensorflow:Saving checkpoints for 7923 into tboard/mod1/model.ckpt.\n",
      "INFO:tensorflow:global_step/sec: 2.05205\n",
      "INFO:tensorflow:step = 8001, loss = 0.0540874 (48.732 sec)\n",
      "INFO:tensorflow:global_step/sec: 1.98734\n",
      "INFO:tensorflow:step = 8101, loss = 0.0270197 (50.319 sec)\n",
      "INFO:tensorflow:global_step/sec: 1.69674\n",
      "INFO:tensorflow:step = 8201, loss = 0.0525406 (58.952 sec)\n",
      "INFO:tensorflow:global_step/sec: 1.69372\n",
      "INFO:tensorflow:step = 8301, loss = 0.0288693 (59.051 sec)\n",
      "INFO:tensorflow:global_step/sec: 1.93637\n",
      "INFO:tensorflow:step = 8401, loss = 0.0697171 (51.618 sec)\n",
      "INFO:tensorflow:global_step/sec: 2.17965\n",
      "INFO:tensorflow:step = 8501, loss = 0.127387 (45.878 sec)\n",
      "INFO:tensorflow:global_step/sec: 2.39946\n",
      "INFO:tensorflow:step = 8601, loss = 0.0293512 (41.676 sec)\n",
      "INFO:tensorflow:global_step/sec: 2.1561\n",
      "INFO:tensorflow:step = 8701, loss = 0.0388504 (46.381 sec)\n",
      "INFO:tensorflow:global_step/sec: 2.30929\n",
      "INFO:tensorflow:step = 8801, loss = 0.0200628 (43.302 sec)\n",
      "INFO:tensorflow:global_step/sec: 2.10395\n",
      "INFO:tensorflow:step = 8901, loss = 0.00805767 (47.530 sec)\n",
      "INFO:tensorflow:global_step/sec: 2.35213\n",
      "INFO:tensorflow:step = 9001, loss = 0.116007 (42.514 sec)\n",
      "INFO:tensorflow:global_step/sec: 2.47342\n",
      "INFO:tensorflow:step = 9101, loss = 0.00634051 (40.430 sec)\n",
      "INFO:tensorflow:Saving checkpoints for 9186 into tboard/mod1/model.ckpt.\n",
      "INFO:tensorflow:global_step/sec: 2.4346\n",
      "INFO:tensorflow:step = 9201, loss = 0.0430214 (41.075 sec)\n",
      "INFO:tensorflow:global_step/sec: 2.48436\n",
      "INFO:tensorflow:step = 9301, loss = 0.0314846 (40.251 sec)\n",
      "INFO:tensorflow:global_step/sec: 2.48054\n",
      "INFO:tensorflow:step = 9401, loss = 0.0515931 (40.314 sec)\n",
      "INFO:tensorflow:global_step/sec: 2.51088\n",
      "INFO:tensorflow:step = 9501, loss = 0.0205951 (39.827 sec)\n",
      "INFO:tensorflow:global_step/sec: 2.51631\n",
      "INFO:tensorflow:step = 9601, loss = 0.00629285 (39.740 sec)\n",
      "INFO:tensorflow:global_step/sec: 2.51391\n",
      "INFO:tensorflow:step = 9701, loss = 0.0131774 (39.779 sec)\n",
      "INFO:tensorflow:global_step/sec: 2.50989\n",
      "INFO:tensorflow:step = 9801, loss = 0.00725789 (39.842 sec)\n",
      "INFO:tensorflow:global_step/sec: 2.52475\n",
      "INFO:tensorflow:step = 9901, loss = 0.0201183 (39.608 sec)\n",
      "INFO:tensorflow:global_step/sec: 2.50317\n",
      "INFO:tensorflow:step = 10001, loss = 0.0209237 (39.949 sec)\n",
      "INFO:tensorflow:global_step/sec: 2.52049\n",
      "INFO:tensorflow:step = 10101, loss = 0.0407811 (39.675 sec)\n",
      "INFO:tensorflow:global_step/sec: 2.51384\n",
      "INFO:tensorflow:step = 10201, loss = 0.0481892 (39.779 sec)\n",
      "INFO:tensorflow:global_step/sec: 2.51445\n",
      "INFO:tensorflow:step = 10301, loss = 0.0607657 (39.771 sec)\n",
      "INFO:tensorflow:global_step/sec: 2.51423\n",
      "INFO:tensorflow:step = 10401, loss = 0.0591785 (39.774 sec)\n",
      "INFO:tensorflow:global_step/sec: 2.51833\n",
      "INFO:tensorflow:step = 10501, loss = 0.0232199 (39.708 sec)\n",
      "INFO:tensorflow:global_step/sec: 2.517\n",
      "INFO:tensorflow:step = 10601, loss = 0.0409961 (39.730 sec)\n",
      "INFO:tensorflow:Saving checkpoints for 10691 into tboard/mod1/model.ckpt.\n",
      "INFO:tensorflow:global_step/sec: 2.50063\n",
      "INFO:tensorflow:step = 10701, loss = 0.0177105 (39.990 sec)\n",
      "INFO:tensorflow:global_step/sec: 2.48698\n",
      "INFO:tensorflow:step = 10801, loss = 0.0515871 (40.209 sec)\n",
      "INFO:tensorflow:global_step/sec: 2.34948\n",
      "INFO:tensorflow:step = 10901, loss = 0.00671921 (42.563 sec)\n",
      "INFO:tensorflow:global_step/sec: 2.48459\n",
      "INFO:tensorflow:step = 11001, loss = 0.0126222 (40.249 sec)\n",
      "INFO:tensorflow:global_step/sec: 2.48299\n",
      "INFO:tensorflow:step = 11101, loss = 0.0588095 (40.274 sec)\n",
      "INFO:tensorflow:global_step/sec: 2.47648\n",
      "INFO:tensorflow:step = 11201, loss = 0.00249967 (40.380 sec)\n",
      "INFO:tensorflow:global_step/sec: 2.45023\n",
      "INFO:tensorflow:step = 11301, loss = 0.0285896 (40.812 sec)\n",
      "INFO:tensorflow:global_step/sec: 2.42012\n",
      "INFO:tensorflow:step = 11401, loss = 0.0138404 (41.320 sec)\n",
      "INFO:tensorflow:global_step/sec: 2.46474\n",
      "INFO:tensorflow:step = 11501, loss = 0.00504712 (40.572 sec)\n",
      "INFO:tensorflow:global_step/sec: 2.50577\n",
      "INFO:tensorflow:step = 11601, loss = 0.0205508 (39.908 sec)\n",
      "INFO:tensorflow:global_step/sec: 2.50625\n",
      "INFO:tensorflow:step = 11701, loss = 0.03257 (39.900 sec)\n",
      "INFO:tensorflow:global_step/sec: 2.49542\n",
      "INFO:tensorflow:step = 11801, loss = 0.0798915 (40.073 sec)\n",
      "INFO:tensorflow:global_step/sec: 2.49731\n",
      "INFO:tensorflow:step = 11901, loss = 0.0279226 (40.045 sec)\n",
      "INFO:tensorflow:global_step/sec: 2.495\n",
      "INFO:tensorflow:step = 12001, loss = 0.0136371 (40.079 sec)\n",
      "INFO:tensorflow:global_step/sec: 2.49394\n",
      "INFO:tensorflow:step = 12101, loss = 0.00391927 (40.097 sec)\n",
      "INFO:tensorflow:Saving checkpoints for 12175 into tboard/mod1/model.ckpt.\n",
      "INFO:tensorflow:global_step/sec: 2.47047\n",
      "INFO:tensorflow:step = 12201, loss = 0.0473561 (40.478 sec)\n",
      "INFO:tensorflow:global_step/sec: 2.49943\n",
      "INFO:tensorflow:step = 12301, loss = 0.0156001 (40.009 sec)\n",
      "INFO:tensorflow:global_step/sec: 2.49084\n",
      "INFO:tensorflow:step = 12401, loss = 0.042543 (40.147 sec)\n",
      "INFO:tensorflow:global_step/sec: 2.49801\n",
      "INFO:tensorflow:step = 12501, loss = 0.110911 (40.032 sec)\n",
      "INFO:tensorflow:global_step/sec: 2.50051\n",
      "INFO:tensorflow:step = 12601, loss = 0.00628731 (39.992 sec)\n",
      "INFO:tensorflow:global_step/sec: 2.49608\n",
      "INFO:tensorflow:step = 12701, loss = 0.0443598 (40.063 sec)\n",
      "INFO:tensorflow:global_step/sec: 2.50102\n",
      "INFO:tensorflow:step = 12801, loss = 0.0474442 (39.984 sec)\n",
      "INFO:tensorflow:global_step/sec: 2.50116\n",
      "INFO:tensorflow:step = 12901, loss = 0.016805 (39.981 sec)\n",
      "INFO:tensorflow:global_step/sec: 2.48182\n",
      "INFO:tensorflow:step = 13001, loss = 0.0148338 (40.293 sec)\n",
      "INFO:tensorflow:global_step/sec: 2.49661\n",
      "INFO:tensorflow:step = 13101, loss = 0.0274113 (40.054 sec)\n",
      "INFO:tensorflow:global_step/sec: 2.49801\n",
      "INFO:tensorflow:step = 13201, loss = 0.0119056 (40.032 sec)\n",
      "INFO:tensorflow:global_step/sec: 2.49488\n",
      "INFO:tensorflow:step = 13301, loss = 0.00574241 (40.082 sec)\n",
      "INFO:tensorflow:global_step/sec: 2.48723\n",
      "INFO:tensorflow:step = 13401, loss = 0.0279823 (40.206 sec)\n",
      "INFO:tensorflow:global_step/sec: 2.41672\n",
      "INFO:tensorflow:step = 13501, loss = 0.026025 (41.378 sec)\n",
      "INFO:tensorflow:global_step/sec: 2.27833\n",
      "INFO:tensorflow:step = 13601, loss = 0.0123616 (43.892 sec)\n",
      "INFO:tensorflow:Saving checkpoints for 13657 into tboard/mod1/model.ckpt.\n",
      "INFO:tensorflow:global_step/sec: 2.41727\n",
      "INFO:tensorflow:step = 13701, loss = 0.0135163 (41.369 sec)\n",
      "INFO:tensorflow:global_step/sec: 2.24279\n",
      "INFO:tensorflow:step = 13801, loss = 0.0115029 (44.587 sec)\n",
      "INFO:tensorflow:global_step/sec: 2.51777\n",
      "INFO:tensorflow:step = 13901, loss = 0.00787546 (39.719 sec)\n",
      "INFO:tensorflow:global_step/sec: 2.42214\n",
      "INFO:tensorflow:step = 14001, loss = 0.00607699 (41.285 sec)\n",
      "INFO:tensorflow:global_step/sec: 2.02323\n",
      "INFO:tensorflow:step = 14101, loss = 0.0125916 (49.433 sec)\n",
      "INFO:tensorflow:global_step/sec: 1.83048\n",
      "INFO:tensorflow:step = 14201, loss = 0.0177594 (54.624 sec)\n",
      "INFO:tensorflow:global_step/sec: 2.17181\n",
      "INFO:tensorflow:step = 14301, loss = 0.0389331 (46.045 sec)\n",
      "INFO:tensorflow:global_step/sec: 2.22572\n",
      "INFO:tensorflow:step = 14401, loss = 0.00287868 (44.929 sec)\n",
      "INFO:tensorflow:global_step/sec: 2.26731\n",
      "INFO:tensorflow:step = 14501, loss = 0.00817029 (44.105 sec)\n",
      "INFO:tensorflow:global_step/sec: 2.30178\n",
      "INFO:tensorflow:step = 14601, loss = 0.000433732 (43.445 sec)\n",
      "INFO:tensorflow:global_step/sec: 2.38875\n",
      "INFO:tensorflow:step = 14701, loss = 0.0150604 (41.864 sec)\n",
      "INFO:tensorflow:global_step/sec: 2.29478\n",
      "INFO:tensorflow:step = 14801, loss = 0.0118924 (43.576 sec)\n",
      "INFO:tensorflow:global_step/sec: 2.55595\n",
      "INFO:tensorflow:step = 14901, loss = 0.0262212 (39.125 sec)\n",
      "INFO:tensorflow:global_step/sec: 2.15644\n",
      "INFO:tensorflow:step = 15001, loss = 0.0101765 (46.372 sec)\n",
      "INFO:tensorflow:Saving checkpoints for 15008 into tboard/mod1/model.ckpt.\n",
      "INFO:tensorflow:global_step/sec: 2.26719\n",
      "INFO:tensorflow:step = 15101, loss = 0.0597863 (44.108 sec)\n",
      "INFO:tensorflow:global_step/sec: 2.3027\n",
      "INFO:tensorflow:step = 15201, loss = 0.0592754 (43.427 sec)\n",
      "INFO:tensorflow:global_step/sec: 1.93564\n",
      "INFO:tensorflow:step = 15301, loss = 0.00769111 (51.663 sec)\n",
      "INFO:tensorflow:global_step/sec: 2.27451\n",
      "INFO:tensorflow:step = 15401, loss = 0.0451654 (43.965 sec)\n",
      "INFO:tensorflow:global_step/sec: 2.31019\n"
     ]
    },
    {
     "name": "stdout",
     "output_type": "stream",
     "text": [
      "INFO:tensorflow:step = 15501, loss = 0.0424496 (43.287 sec)\n",
      "INFO:tensorflow:global_step/sec: 2.31507\n",
      "INFO:tensorflow:step = 15601, loss = 0.053282 (43.196 sec)\n",
      "INFO:tensorflow:global_step/sec: 2.34069\n",
      "INFO:tensorflow:step = 15701, loss = 0.0111168 (42.722 sec)\n",
      "INFO:tensorflow:global_step/sec: 1.92685\n",
      "INFO:tensorflow:step = 15801, loss = 0.0117995 (51.899 sec)\n",
      "INFO:tensorflow:global_step/sec: 2.06895\n",
      "INFO:tensorflow:step = 15901, loss = 0.00835256 (48.333 sec)\n",
      "INFO:tensorflow:global_step/sec: 2.12528\n",
      "INFO:tensorflow:step = 16001, loss = 0.00916184 (47.052 sec)\n",
      "INFO:tensorflow:global_step/sec: 2.26027\n",
      "INFO:tensorflow:step = 16101, loss = 0.00422559 (44.243 sec)\n",
      "INFO:tensorflow:global_step/sec: 2.42571\n",
      "INFO:tensorflow:step = 16201, loss = 0.0457886 (41.226 sec)\n",
      "INFO:tensorflow:global_step/sec: 2.22159\n",
      "INFO:tensorflow:step = 16301, loss = 0.00277359 (45.013 sec)\n",
      "INFO:tensorflow:Saving checkpoints for 16329 into tboard/mod1/model.ckpt.\n",
      "INFO:tensorflow:global_step/sec: 1.83595\n",
      "INFO:tensorflow:step = 16401, loss = 0.00363221 (54.471 sec)\n",
      "INFO:tensorflow:global_step/sec: 2.07847\n",
      "INFO:tensorflow:step = 16501, loss = 0.00727875 (48.108 sec)\n",
      "INFO:tensorflow:global_step/sec: 1.89406\n",
      "INFO:tensorflow:step = 16601, loss = 0.0184916 (52.797 sec)\n",
      "INFO:tensorflow:global_step/sec: 2.00897\n",
      "INFO:tensorflow:step = 16701, loss = 0.00220912 (49.806 sec)\n",
      "INFO:tensorflow:global_step/sec: 1.94549\n",
      "INFO:tensorflow:step = 16801, loss = 0.0111112 (51.372 sec)\n",
      "INFO:tensorflow:global_step/sec: 1.69155\n",
      "INFO:tensorflow:step = 16901, loss = 0.025045 (59.117 sec)\n",
      "INFO:tensorflow:global_step/sec: 1.99701\n",
      "INFO:tensorflow:step = 17001, loss = 0.0330744 (50.107 sec)\n",
      "INFO:tensorflow:global_step/sec: 2.04477\n",
      "INFO:tensorflow:step = 17101, loss = 0.00794195 (48.874 sec)\n",
      "INFO:tensorflow:global_step/sec: 2.36812\n",
      "INFO:tensorflow:step = 17201, loss = 0.00692148 (42.228 sec)\n",
      "INFO:tensorflow:global_step/sec: 2.2238\n",
      "INFO:tensorflow:step = 17301, loss = 0.0106906 (44.969 sec)\n",
      "INFO:tensorflow:global_step/sec: 2.09243\n",
      "INFO:tensorflow:step = 17401, loss = 0.0195304 (47.791 sec)\n",
      "INFO:tensorflow:global_step/sec: 2.16177\n",
      "INFO:tensorflow:step = 17501, loss = 0.0123526 (46.260 sec)\n",
      "INFO:tensorflow:Saving checkpoints for 17539 into tboard/mod1/model.ckpt.\n",
      "INFO:tensorflow:global_step/sec: 1.93298\n",
      "INFO:tensorflow:step = 17601, loss = 0.0274825 (51.732 sec)\n",
      "INFO:tensorflow:global_step/sec: 2.1348\n",
      "INFO:tensorflow:step = 17701, loss = 0.0642714 (46.843 sec)\n",
      "INFO:tensorflow:global_step/sec: 2.16772\n",
      "INFO:tensorflow:step = 17801, loss = 0.0455918 (46.131 sec)\n",
      "INFO:tensorflow:global_step/sec: 2.33123\n",
      "INFO:tensorflow:step = 17901, loss = 0.0184248 (42.896 sec)\n",
      "INFO:tensorflow:global_step/sec: 1.96265\n",
      "INFO:tensorflow:step = 18001, loss = 0.0471618 (50.954 sec)\n",
      "INFO:tensorflow:global_step/sec: 2.07614\n",
      "INFO:tensorflow:step = 18101, loss = 0.00115749 (48.164 sec)\n",
      "INFO:tensorflow:global_step/sec: 2.31549\n",
      "INFO:tensorflow:step = 18201, loss = 0.00654553 (43.188 sec)\n",
      "INFO:tensorflow:global_step/sec: 1.81621\n",
      "INFO:tensorflow:step = 18301, loss = 0.00478549 (55.059 sec)\n",
      "INFO:tensorflow:global_step/sec: 2.03105\n",
      "INFO:tensorflow:step = 18401, loss = 0.0145496 (49.236 sec)\n",
      "INFO:tensorflow:global_step/sec: 2.1237\n",
      "INFO:tensorflow:step = 18501, loss = 0.0109557 (47.088 sec)\n",
      "INFO:tensorflow:global_step/sec: 2.22019\n",
      "INFO:tensorflow:step = 18601, loss = 0.017116 (45.041 sec)\n",
      "INFO:tensorflow:global_step/sec: 2.1215\n",
      "INFO:tensorflow:step = 18701, loss = 0.00641364 (47.136 sec)\n",
      "INFO:tensorflow:Saving checkpoints for 18793 into tboard/mod1/model.ckpt.\n",
      "INFO:tensorflow:global_step/sec: 2.03618\n",
      "INFO:tensorflow:step = 18801, loss = 0.019894 (49.113 sec)\n",
      "INFO:tensorflow:global_step/sec: 1.7612\n",
      "INFO:tensorflow:step = 18901, loss = 0.0140702 (56.779 sec)\n",
      "INFO:tensorflow:global_step/sec: 2.13722\n",
      "INFO:tensorflow:step = 19001, loss = 0.00495527 (46.790 sec)\n",
      "INFO:tensorflow:global_step/sec: 2.11486\n",
      "INFO:tensorflow:step = 19101, loss = 0.0124217 (47.284 sec)\n",
      "INFO:tensorflow:global_step/sec: 1.85174\n",
      "INFO:tensorflow:step = 19201, loss = 0.00495673 (54.003 sec)\n",
      "INFO:tensorflow:global_step/sec: 2.16251\n",
      "INFO:tensorflow:step = 19301, loss = 0.0255104 (46.244 sec)\n",
      "INFO:tensorflow:global_step/sec: 1.76742\n",
      "INFO:tensorflow:step = 19401, loss = 0.0402646 (57.012 sec)\n",
      "INFO:tensorflow:global_step/sec: 2.08783\n",
      "INFO:tensorflow:step = 19501, loss = 0.0188363 (48.841 sec)\n",
      "INFO:tensorflow:global_step/sec: 2.15957\n",
      "INFO:tensorflow:step = 19601, loss = 0.0119276 (44.927 sec)\n",
      "INFO:tensorflow:global_step/sec: 2.20521\n",
      "INFO:tensorflow:step = 19701, loss = 0.0257671 (45.393 sec)\n",
      "INFO:tensorflow:global_step/sec: 1.92893\n",
      "INFO:tensorflow:step = 19801, loss = 0.00151693 (51.809 sec)\n",
      "INFO:tensorflow:global_step/sec: 2.01211\n",
      "INFO:tensorflow:step = 19901, loss = 0.00217023 (49.686 sec)\n",
      "INFO:tensorflow:Saving checkpoints for 19987 into tboard/mod1/model.ckpt.\n",
      "INFO:tensorflow:Saving checkpoints for 20000 into tboard/mod1/model.ckpt.\n",
      "INFO:tensorflow:Loss for final step: 0.00796652.\n"
     ]
    },
    {
     "data": {
      "text/plain": [
       "<tensorflow.python.estimator.estimator.Estimator at 0x7f7ff6449470>"
      ]
     },
     "execution_count": 14,
     "metadata": {},
     "output_type": "execute_result"
    }
   ],
   "source": [
    "classifier.train(input_fn=train_fn,steps=20000)"
   ]
  },
  {
   "cell_type": "markdown",
   "metadata": {},
   "source": [
    "We can observe Tensorboard Visualisations by running the following code:\n",
    "\n",
    "> tensorboard --logdir=path_to_directory_tboard --host=127.0.0.1\n"
   ]
  },
  {
   "cell_type": "markdown",
   "metadata": {},
   "source": [
    "### Validation function"
   ]
  },
  {
   "cell_type": "markdown",
   "metadata": {},
   "source": [
    "Create a Validation function with validation data and number of epochs 1"
   ]
  },
  {
   "cell_type": "code",
   "execution_count": null,
   "metadata": {
    "collapsed": true
   },
   "outputs": [],
   "source": []
  },
  {
   "cell_type": "code",
   "execution_count": 15,
   "metadata": {
    "collapsed": true
   },
   "outputs": [],
   "source": [
    "eval_fn = tf.estimator.inputs.numpy_input_fn(x={\"x\": data.validation.images},\n",
    "                                                        y=data.validation.labels,\n",
    "                                                        num_epochs=1,\n",
    "                                                        shuffle=False)"
   ]
  },
  {
   "cell_type": "markdown",
   "metadata": {},
   "source": [
    "### Validation"
   ]
  },
  {
   "cell_type": "markdown",
   "metadata": {},
   "source": [
    "Here it takes the stored model from the checkpoint and run the prediction"
   ]
  },
  {
   "cell_type": "code",
   "execution_count": 16,
   "metadata": {},
   "outputs": [
    {
     "name": "stdout",
     "output_type": "stream",
     "text": [
      "INFO:tensorflow:Starting evaluation at 2018-03-09-18:43:06\n",
      "INFO:tensorflow:Restoring parameters from tboard/mod1/model.ckpt-20000\n",
      "INFO:tensorflow:Finished evaluation at 2018-03-09-18:43:34\n",
      "INFO:tensorflow:Saving dict for global step 20000: accuracy = 0.988111, global_step = 20000, loss = 0.038156\n",
      "{'accuracy': 0.98811114, 'loss': 0.038156018, 'global_step': 20000}\n"
     ]
    }
   ],
   "source": [
    "eval_results = classifier.evaluate(input_fn=eval_fn)\n",
    "print(eval_results)"
   ]
  },
  {
   "cell_type": "markdown",
   "metadata": {},
   "source": [
    "### Test Function"
   ]
  },
  {
   "cell_type": "markdown",
   "metadata": {},
   "source": [
    "Similar is the case with Test Data"
   ]
  },
  {
   "cell_type": "code",
   "execution_count": 17,
   "metadata": {
    "collapsed": true
   },
   "outputs": [],
   "source": [
    "test_fn = tf.estimator.inputs.numpy_input_fn(x={\"x\": data.test.images},\n",
    "                                                        y=data.test.labels,\n",
    "                                                        num_epochs=1,\n",
    "                                                        shuffle=False)"
   ]
  },
  {
   "cell_type": "markdown",
   "metadata": {},
   "source": [
    "### Test Accuracy"
   ]
  },
  {
   "cell_type": "code",
   "execution_count": 18,
   "metadata": {},
   "outputs": [
    {
     "name": "stdout",
     "output_type": "stream",
     "text": [
      "INFO:tensorflow:Starting evaluation at 2018-03-09-18:56:33\n",
      "INFO:tensorflow:Restoring parameters from tboard/mod1/model.ckpt-20000\n",
      "INFO:tensorflow:Finished evaluation at 2018-03-09-18:56:46\n",
      "INFO:tensorflow:Saving dict for global step 20000: accuracy = 0.9899, global_step = 20000, loss = 0.0294964\n",
      "{'accuracy': 0.98989999, 'loss': 0.029496437, 'global_step': 20000}\n"
     ]
    }
   ],
   "source": [
    "test_results = classifier.evaluate(input_fn=test_fn)\n",
    "print(test_results)"
   ]
  },
  {
   "cell_type": "markdown",
   "metadata": {},
   "source": [
    "# Various Models"
   ]
  },
  {
   "cell_type": "markdown",
   "metadata": {
    "collapsed": true
   },
   "source": [
    "[Explanation for various models is explained here](https://github.com/wizardboy2010/MNIST/blob/master/Various%20Models.md)"
   ]
  },
  {
   "cell_type": "markdown",
   "metadata": {},
   "source": [
    "Out of all these models mod1 with batch normalization in Dense layer gave a highest accuracy of 99.66% in Test."
   ]
  }
 ],
 "metadata": {
  "kernelspec": {
   "display_name": "Python 3",
   "language": "python",
   "name": "python3"
  },
  "language_info": {
   "codemirror_mode": {
    "name": "ipython",
    "version": 3
   },
   "file_extension": ".py",
   "mimetype": "text/x-python",
   "name": "python",
   "nbconvert_exporter": "python",
   "pygments_lexer": "ipython3",
   "version": "3.5.4"
  }
 },
 "nbformat": 4,
 "nbformat_minor": 2
}
